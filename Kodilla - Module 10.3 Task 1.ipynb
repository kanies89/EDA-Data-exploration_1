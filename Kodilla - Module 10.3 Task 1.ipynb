{
 "cells": [
  {
   "cell_type": "markdown",
   "id": "c34265b6",
   "metadata": {},
   "source": [
    "### Stwórz dane z rozkładu normalnego o średniej 3 i odchyleniu standardowym 1 dla 100 oraz 10 000. Na podstawie tych sztucznie stworzonych zbiorów oblicz statystyki poznane w module statystki opisowej. Opisz różnice pomiędzy statystkami i wynik swojej pracy wyślij Mentorowi jako Jupyter Noteboook zapisany w Github."
   ]
  },
  {
   "cell_type": "code",
   "execution_count": 128,
   "id": "d76b6deb",
   "metadata": {},
   "outputs": [
    {
     "data": {
      "text/plain": [
       "(array([1.000e+01, 1.010e+02, 6.420e+02, 2.033e+03, 3.222e+03, 2.678e+03,\n",
       "        1.089e+03, 1.990e+02, 2.500e+01, 1.000e+00]),\n",
       " array([-1.03075942, -0.17290314,  0.68495314,  1.54280943,  2.40066571,\n",
       "         3.25852199,  4.11637827,  4.97423456,  5.83209084,  6.68994712,\n",
       "         7.54780341]),\n",
       " <BarContainer object of 10 artists>)"
      ]
     },
     "execution_count": 128,
     "metadata": {},
     "output_type": "execute_result"
    },
    {
     "data": {
      "image/png": "[encoded data removed]",
      "text/plain": [
       "<Figure size 640x480 with 2 Axes>"
      ]
     },
     "metadata": {},
     "output_type": "display_data"
    }
   ],
   "source": [
    "# manipulacja danymi\n",
    "import numpy as np\n",
    "import pandas as pd\n",
    "import scipy\n",
    "\n",
    "# wizualizacja danych\n",
    "import matplotlib.pyplot as plt\n",
    "import seaborn as sns\n",
    "\n",
    "# statystyczna analiza danych\n",
    "from scipy import stats\n",
    "\n",
    "\n",
    "f, (ax1, ax2) = plt.subplots(1, 2, sharey=False)\n",
    "x = np.random.normal(loc=3, scale=1, size=100)\n",
    "y = np.random.normal(loc=3, scale=1, size=10000)\n",
    "ax1.hist(x)\n",
    "ax2.hist(y)"
   ]
  },
  {
   "cell_type": "code",
   "execution_count": 129,
   "id": "ef7d2139",
   "metadata": {},
   "outputs": [
    {
     "name": "stdout",
     "output_type": "stream",
     "text": [
      "[2.5650176  2.54849577 3.39200406 ... 3.35396763 1.21931695 3.15717082]\n"
     ]
    }
   ],
   "source": [
    "print(y)"
   ]
  },
  {
   "cell_type": "code",
   "execution_count": 130,
   "id": "dffad16c",
   "metadata": {},
   "outputs": [
    {
     "name": "stdout",
     "output_type": "stream",
     "text": [
      "3.051545534588426\n",
      "3.000206445182164\n"
     ]
    }
   ],
   "source": [
    "median_x = np.median(x)\n",
    "print(median_x)\n",
    "median_y = np.median(y)\n",
    "print(median_y)"
   ]
  },
  {
   "cell_type": "code",
   "execution_count": 131,
   "id": "64928b65",
   "metadata": {},
   "outputs": [
    {
     "name": "stdout",
     "output_type": "stream",
     "text": [
      "2.976165760544335\n",
      "2.99436780787739\n"
     ]
    }
   ],
   "source": [
    "mean_x = np.mean(x)\n",
    "print(mean_x)\n",
    "mean_y = np.mean(y)\n",
    "print(mean_y)"
   ]
  },
  {
   "cell_type": "code",
   "execution_count": 132,
   "id": "556a27b2",
   "metadata": {},
   "outputs": [
    {
     "name": "stdout",
     "output_type": "stream",
     "text": [
      "ModeResult(mode=array([0.14623707]), count=array([1]))\n",
      "ModeResult(mode=array([-1.03075942]), count=array([1]))\n"
     ]
    },
    {
     "name": "stderr",
     "output_type": "stream",
     "text": [
      "C:\\Users\\Admin\\AppData\\Local\\Temp\\ipykernel_17388\\3275034415.py:1: FutureWarning: Unlike other reduction functions (e.g. `skew`, `kurtosis`), the default behavior of `mode` typically preserves the axis it acts along. In SciPy 1.11.0, this behavior will change: the default value of `keepdims` will become False, the `axis` over which the statistic is taken will be eliminated, and the value None will no longer be accepted. Set `keepdims` to True or False to avoid this warning.\n",
      "  mode_x = stats.mode(x)\n",
      "C:\\Users\\Admin\\AppData\\Local\\Temp\\ipykernel_17388\\3275034415.py:3: FutureWarning: Unlike other reduction functions (e.g. `skew`, `kurtosis`), the default behavior of `mode` typically preserves the axis it acts along. In SciPy 1.11.0, this behavior will change: the default value of `keepdims` will become False, the `axis` over which the statistic is taken will be eliminated, and the value None will no longer be accepted. Set `keepdims` to True or False to avoid this warning.\n",
      "  mode_y = stats.mode(y)\n"
     ]
    }
   ],
   "source": [
    "mode_x = stats.mode(x)\n",
    "print(mode_x)\n",
    "mode_y = stats.mode(y)\n",
    "print(mode_y)"
   ]
  },
  {
   "cell_type": "code",
   "execution_count": 133,
   "id": "aaf6e33f",
   "metadata": {},
   "outputs": [
    {
     "name": "stdout",
     "output_type": "stream",
     "text": [
      "Q0: 0.14623707272184783\n",
      "Q1: 2.24\n",
      "Q2: 3.05\n",
      "Q3: 3.73\n",
      "Q4: 5.01\n"
     ]
    }
   ],
   "source": [
    "x_q0 = np.quantile(x, 0.0)\n",
    "x_q1 = np.round(np.quantile(x, 0.25), 2)\n",
    "x_q2 = np.round(np.quantile(x, 0.5), 2)\n",
    "x_q3 = np.round(np.quantile(x, 0.75), 2)\n",
    "x_q4 = np.round(np.quantile(x, 1.0), 2)\n",
    "print(f'Q0: {x_q0}')\n",
    "print(f'Q1: {x_q1}')\n",
    "print(f'Q2: {x_q2}')\n",
    "print(f'Q3: {x_q3}')\n",
    "print(f'Q4: {x_q4}')"
   ]
  },
  {
   "cell_type": "code",
   "execution_count": 134,
   "id": "0c179b21",
   "metadata": {},
   "outputs": [
    {
     "name": "stdout",
     "output_type": "stream",
     "text": [
      "Q0: -1.030759422062287\n",
      "Q1: 2.31\n",
      "Q2: 3.0\n",
      "Q3: 3.69\n",
      "Q4: 7.55\n"
     ]
    }
   ],
   "source": [
    "y_q0 = np.quantile(y, 0.0)\n",
    "y_q1 = np.round(np.quantile(y, 0.25), 2)\n",
    "y_q2 = np.round(np.quantile(y, 0.5), 2)\n",
    "y_q3 = np.round(np.quantile(y, 0.75), 2)\n",
    "y_q4 = np.round(np.quantile(y, 1.0), 2)\n",
    "print(f'Q0: {y_q0}')\n",
    "print(f'Q1: {y_q1}')\n",
    "print(f'Q2: {y_q2}')\n",
    "print(f'Q3: {y_q3}')\n",
    "print(f'Q4: {y_q4}')"
   ]
  },
  {
   "cell_type": "code",
   "execution_count": 135,
   "id": "1bf019c7",
   "metadata": {},
   "outputs": [
    {
     "name": "stdout",
     "output_type": "stream",
     "text": [
      "4.860560422255132\n"
     ]
    }
   ],
   "source": [
    "range_x = max(x) - min(x)\n",
    "print(range_x)"
   ]
  },
  {
   "cell_type": "code",
   "execution_count": 136,
   "id": "269893f8",
   "metadata": {},
   "outputs": [
    {
     "name": "stdout",
     "output_type": "stream",
     "text": [
      "8.578562827313235\n"
     ]
    }
   ],
   "source": [
    "range_y = max(y) - min(y)\n",
    "print(range_y)"
   ]
  },
  {
   "cell_type": "code",
   "execution_count": 137,
   "id": "a0f93f67",
   "metadata": {},
   "outputs": [
    {
     "name": "stdout",
     "output_type": "stream",
     "text": [
      "1.4899999999999998\n"
     ]
    }
   ],
   "source": [
    "x_iqr = x_q3 - x_q1\n",
    "print(x_iqr)"
   ]
  },
  {
   "cell_type": "code",
   "execution_count": 138,
   "id": "33ba6742",
   "metadata": {},
   "outputs": [
    {
     "name": "stdout",
     "output_type": "stream",
     "text": [
      "1.38\n"
     ]
    }
   ],
   "source": [
    "y_iqr = y_q3 - y_q1\n",
    "print(y_iqr)"
   ]
  },
  {
   "cell_type": "code",
   "execution_count": 139,
   "id": "7227a673",
   "metadata": {},
   "outputs": [
    {
     "data": {
      "image/png": "[encoded data removed]",
      "text/plain": [
       "<Figure size 640x480 with 2 Axes>"
      ]
     },
     "metadata": {},
     "output_type": "display_data"
    }
   ],
   "source": [
    "f, (ax1, ax2) = plt.subplots(1, 2, sharey=True)\n",
    "\n",
    "ax1.boxplot(x)\n",
    "ax2.boxplot(y)\n",
    "\n",
    "plt.show()"
   ]
  },
  {
   "cell_type": "code",
   "execution_count": 140,
   "id": "80856ebf",
   "metadata": {},
   "outputs": [
    {
     "data": {
      "text/plain": [
       "-0.27556808221806167"
      ]
     },
     "execution_count": 140,
     "metadata": {},
     "output_type": "execute_result"
    }
   ],
   "source": [
    "scipy.stats.skew(x)"
   ]
  },
  {
   "cell_type": "code",
   "execution_count": 141,
   "id": "d170a21a",
   "metadata": {},
   "outputs": [
    {
     "data": {
      "text/plain": [
       "-0.017297624991678775"
      ]
     },
     "execution_count": 141,
     "metadata": {},
     "output_type": "execute_result"
    }
   ],
   "source": [
    "scipy.stats.skew(y)"
   ]
  },
  {
   "cell_type": "code",
   "execution_count": 142,
   "id": "412bf735",
   "metadata": {},
   "outputs": [
    {
     "data": {
      "text/plain": [
       "0.9618345189366674"
      ]
     },
     "execution_count": 142,
     "metadata": {},
     "output_type": "execute_result"
    }
   ],
   "source": [
    "np.std(x, ddof=1)"
   ]
  },
  {
   "cell_type": "code",
   "execution_count": 143,
   "id": "ff97493c",
   "metadata": {},
   "outputs": [
    {
     "data": {
      "text/plain": [
       "1.0079030176390853"
      ]
     },
     "execution_count": 143,
     "metadata": {},
     "output_type": "execute_result"
    }
   ],
   "source": [
    "np.std(y, ddof=1)"
   ]
  },
  {
   "cell_type": "code",
   "execution_count": 144,
   "id": "4ff1e3d3",
   "metadata": {},
   "outputs": [],
   "source": [
    "S_x = pd.Series(x)"
   ]
  },
  {
   "cell_type": "code",
   "execution_count": 145,
   "id": "6d04f522",
   "metadata": {},
   "outputs": [
    {
     "data": {
      "text/plain": [
       "0"
      ]
     },
     "execution_count": 145,
     "metadata": {},
     "output_type": "execute_result"
    }
   ],
   "source": [
    "S_x[S_x < (x_q1-1.5*x_iqr)].count()"
   ]
  },
  {
   "cell_type": "code",
   "execution_count": 146,
   "id": "d65ade4e",
   "metadata": {},
   "outputs": [],
   "source": [
    "S_y = pd.Series(y)"
   ]
  },
  {
   "cell_type": "code",
   "execution_count": 147,
   "id": "dd6985e2",
   "metadata": {},
   "outputs": [
    {
     "data": {
      "text/plain": [
       "36"
      ]
     },
     "execution_count": 147,
     "metadata": {},
     "output_type": "execute_result"
    }
   ],
   "source": [
    "S_y[S_y < (y_q1-1.5*y_iqr)].count()"
   ]
  },
  {
   "cell_type": "code",
   "execution_count": 148,
   "id": "c0d73474",
   "metadata": {
    "scrolled": true
   },
   "outputs": [
    {
     "data": {
      "text/plain": [
       "822"
      ]
     },
     "execution_count": 148,
     "metadata": {},
     "output_type": "execute_result"
    }
   ],
   "source": [
    "S_y[S_y > (y_q1+1.5*y_iqr)].count()"
   ]
  },
  {
   "cell_type": "markdown",
   "id": "de1979f0",
   "metadata": {},
   "source": [
    "<font color=\"green\"><b>Zbiór x składa się ze 100 elementów, zbiór y składa się z 10000 elementów. Prócz różnic w skośności między zbiorami należy zwrócić uwagę na zakres zbiorów - większy jest w zbiorze z większą liczbą elementów. Dodatkowo rozstęp ćwiartkowy jest nieznacznie większy w zbiorze y - zwiększony w dolnym zakresie oraz górnym - wskazuje to na duży rozstrzał między danymi w zbiorze (większe odległości / rzadszy zbiór). Co ciekawe intuicyjnie zbiór y jest bardziej pożądany - ze względu na dużą ilość danych w zbiorze, aczkolwiek widzimy że spora część danych jest poza rozstępem ćwiartkowym (w zbiorze y). Możemy uznać, że te dane są odstające.</font></b>"
   ]
  }
 ],
 "metadata": {
  "kernelspec": {
   "display_name": "Python 3 (ipykernel)",
   "language": "python",
   "name": "python3"
  },
  "language_info": {
   "codemirror_mode": {
    "name": "ipython",
    "version": 3
   },
   "file_extension": ".py",
   "mimetype": "text/x-python",
   "name": "python",
   "nbconvert_exporter": "python",
   "pygments_lexer": "ipython3",
   "version": "3.9.13"
  }
 },
 "nbformat": 4,
 "nbformat_minor": 5
}
